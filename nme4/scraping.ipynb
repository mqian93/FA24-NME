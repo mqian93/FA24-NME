{
 "cells": [
  {
   "cell_type": "markdown",
   "id": "70272f0a-bb03-4c19-9c7e-b90013c0025e",
   "metadata": {},
   "source": [
    "# [CDJ] Web Scraping Workbook\n",
    "\n",
    "## Packages\n",
    "The [`requests`](https://requests.readthedocs.io/en/latest/) library allows you to download files from the web. You can use the `requests` library to get information from web pages so that you can save them to files or analyze their data in python.\n",
    "\n",
    "After using `requests` to access web data, you'll use [Beautiful Soup](https://www.crummy.com/software/BeautifulSoup/bs4/doc/) to parse that information, organized in HTML. `BeautifulSoup` makes querying a tree of tags and their attributes much easier than trying to parse HTML from scratch. You'll need to spend some time looking at the target web page and finding the combination of tag names and classes you're interested in, but `BeautifulSoup` can help access that information once you know what you need.\n",
    "\n",
    "As usual, we will still need NumPy and Pandas for storing the data we got from the web."
   ]
  },
  {
   "cell_type": "code",
   "execution_count": 1,
   "id": "248c0896-7aef-45d4-b60e-9af0bc2d6b75",
   "metadata": {},
   "outputs": [],
   "source": [
    "import requests\n",
    "from bs4 import BeautifulSoup\n",
    "\n",
    "import pandas as pd\n",
    "import numpy as np"
   ]
  },
  {
   "cell_type": "markdown",
   "id": "1b3e2674-5fb4-4342-80e9-f3507ce8d7ef",
   "metadata": {},
   "source": [
    "# Example: College of Engineering Faculty\n",
    "\n",
    "Today, our goal is to collect information about College of Engineering Faculty: their name, position, office and headshot.\n",
    "\n",
    "We will use this page: [https://www.engineering.cornell.edu/faculty-directory](https://www.engineering.cornell.edu/faculty-directory)"
   ]
  },
  {
   "cell_type": "code",
   "execution_count": 2,
   "id": "f0245c9b-6434-449b-8d5d-45393e8cda1d",
   "metadata": {},
   "outputs": [],
   "source": [
    "url = \"https://www.engineering.cornell.edu/faculty-directory\""
   ]
  },
  {
   "cell_type": "markdown",
   "id": "b2642c5a-5716-40cd-b39e-966c08e4e22e",
   "metadata": {},
   "source": [
    "We need to put together clues from the structure of the page and the appearance of elements on the page. Appearance is usually determined by the CSS `style` property. Figuring out how to automatically find values from HTML will involve looking at HTML source, Cmd/Ctrl-F searching for values that you want, and figuring out how to identify styles or containing elements. Modern web pages are long and have lots of complicated elements, many of which do not appear as visible content. Starting from the top of the document and reading through is not recommended.\n",
    "\n",
    "## Inspect the web page\n",
    "\n",
    "Take a look at the HTML of the page. You can view this in a couple of different ways:\n",
    "\n",
    "*   Right click > \"View Page Source\" - this will give you the entire source code\n",
    "*   Right click > \"Inspect\" - this will start a interactive session\n",
    "\n",
    "When you are looking, keep a note:\n",
    "\n",
    "* What tag is enclosing information about each of person on the webpage - is there a unique attribute associated with it?\n",
    "* What tag is enclosing each of the individual information fields (e.g., name, email) for a single person?"
   ]
  },
  {
   "cell_type": "markdown",
   "id": "204ae3dd-8c08-4fa0-bf2f-cfd77a92071b",
   "metadata": {},
   "source": [
    "## Making the request"
   ]
  },
  {
   "cell_type": "markdown",
   "id": "6dcf5f60-22fb-47ca-b653-8ba91254e937",
   "metadata": {},
   "source": [
    "The following code does a `GET` request to the web host for the specified filename. HTTP is the protocol used to make web requests."
   ]
  },
  {
   "cell_type": "code",
   "execution_count": 3,
   "id": "4945fe2d-1f27-4913-8a93-3700007c5681",
   "metadata": {},
   "outputs": [],
   "source": [
    "response = requests.get(url, headers={'User-Agent': 'Mozilla/5.0'})"
   ]
  },
  {
   "cell_type": "markdown",
   "id": "2af69696-e26e-42e0-87ba-17d8ed3e6f1c",
   "metadata": {},
   "source": [
    "It is good pratice to do a confidence check of this status code. 200 is success. Others you have probably seen: 404 is \"page not found\", 403 is \"you do not have access\". Codes starting with 3-- are often redirects. 500 means there is a bug in the server-side code. We included a header of user-agent to make us seem less like a bot."
   ]
  },
  {
   "cell_type": "code",
   "execution_count": 4,
   "id": "f6894f66-5e5f-4896-bda4-7d98ecdbe049",
   "metadata": {},
   "outputs": [
    {
     "name": "stdout",
     "output_type": "stream",
     "text": [
      "200 OK\n"
     ]
    }
   ],
   "source": [
    "print(response.status_code, response.reason)"
   ]
  },
  {
   "cell_type": "markdown",
   "id": "320ecb85-740b-4c45-bc21-ee8380245b81",
   "metadata": {},
   "source": [
    "You're never going to get the analysis of a web page right the first time, so it's good to save a local copy of the HTML source so we don't need to hit the server again."
   ]
  },
  {
   "cell_type": "code",
   "execution_count": 5,
   "id": "40ce4d77-d73b-4c65-81f8-34369cf559e2",
   "metadata": {},
   "outputs": [],
   "source": [
    "with open(\"faculty.html\", \"w\") as writer:\n",
    "  writer.write(response.text)"
   ]
  },
  {
   "cell_type": "markdown",
   "id": "b3663055-91e2-4dd0-b260-29a356548caa",
   "metadata": {},
   "source": [
    "Here we're immediately reading the file again, but you could split these into two separate notebooks, one for downloading, one for analysis."
   ]
  },
  {
   "cell_type": "code",
   "execution_count": 6,
   "id": "3d3f81ec-c3f0-44e3-a3df-088251b73afd",
   "metadata": {},
   "outputs": [],
   "source": [
    "with open(\"faculty.html\", \"r\") as reader:\n",
    "  html_source = reader.read()"
   ]
  },
  {
   "cell_type": "markdown",
   "id": "09fa9817-2a5e-4065-8cc7-31abb6ac5ead",
   "metadata": {},
   "source": [
    "There are a lot of things that can go wrong when you are accessing web documents. Get in the habit of constantly adding confidence checks to make sure the state of variables is what you expect it to be."
   ]
  },
  {
   "cell_type": "code",
   "execution_count": 7,
   "id": "cb107469-6029-4a4b-a296-7da341f02cae",
   "metadata": {},
   "outputs": [
    {
     "data": {
      "text/plain": [
       "'<!DOCTYPE html>\\n<html lang=\"en\" dir=\"ltr\" prefix=\"'"
      ]
     },
     "execution_count": 7,
     "metadata": {},
     "output_type": "execute_result"
    }
   ],
   "source": [
    "html_source[:50]"
   ]
  },
  {
   "cell_type": "markdown",
   "id": "a06a9dc3-7db5-4c28-8fcf-6e22858d84a5",
   "metadata": {},
   "source": [
    "## Parsing the HTML"
   ]
  },
  {
   "cell_type": "markdown",
   "id": "6c57d399-70e0-461a-b9e7-81e14926482e",
   "metadata": {},
   "source": [
    "Here's where we turn the HTML text from a single long string into a searchable tree of tags. `BeautifulSoup` can support different ways of parsing (including XML). Here we'll use an HTML parser."
   ]
  },
  {
   "cell_type": "code",
   "execution_count": 8,
   "id": "55ad66cf-019c-4cf5-8ffb-5fe69081cbba",
   "metadata": {},
   "outputs": [],
   "source": [
    "page = BeautifulSoup(html_source, \"html.parser\")"
   ]
  },
  {
   "cell_type": "markdown",
   "id": "284b72e6-4c11-4bb1-9199-8e1cc06c6449",
   "metadata": {},
   "source": [
    "Now that we have a structured document we can ask for specific tags. See the Beautiful Soup documentation linked at the top for more details."
   ]
  },
  {
   "cell_type": "code",
   "execution_count": 9,
   "id": "b2033947-2cf1-4240-86a3-c9fe60e9f519",
   "metadata": {},
   "outputs": [
    {
     "data": {
      "text/plain": [
       "<title>Faculty Directory | Cornell Engineering</title>"
      ]
     },
     "execution_count": 9,
     "metadata": {},
     "output_type": "execute_result"
    }
   ],
   "source": [
    "page.title"
   ]
  },
  {
   "cell_type": "markdown",
   "id": "3143ce4a-8c4c-4dc0-b0b4-05bb7e4e4d5b",
   "metadata": {},
   "source": [
    "We can also find all of the instances of a given tag. Here we find all links and display the first 10."
   ]
  },
  {
   "cell_type": "code",
   "execution_count": 10,
   "id": "c10bbb80-6ad8-4a58-8f0c-9c04d6c399c3",
   "metadata": {},
   "outputs": [
    {
     "name": "stdout",
     "output_type": "stream",
     "text": [
      "there are 207 links on the page\n"
     ]
    },
    {
     "data": {
      "text/plain": [
       "[<a class=\"element-invisible element-focusable\" href=\"#main-content\">Skip to main content</a>,\n",
       " <a class=\"fa fa-id-badge is-active\" data-drupal-link-system-path=\"node/32\" href=\"/faculty-directory\">Faculty Directory</a>,\n",
       " <a class=\"fa fa-heart-o\" data-drupal-link-system-path=\"node/314\" href=\"/giving\">Giving</a>,\n",
       " <a data-drupal-link-system-path=\"node/20998\" href=\"/industry-partners\">Industry Partners</a>,\n",
       " <a class=\"fa fa-list-ul\" data-drupal-link-system-path=\"node/216\" href=\"/programs-departments\">Programs &amp; Departments</a>,\n",
       " <a class=\"fa fa-newspaper-o\" data-drupal-link-system-path=\"node/20714\" href=\"/cornell-engineering-news\">News</a>,\n",
       " <a class=\"fa fa-check-circle\" data-drupal-link-system-path=\"node/20\" href=\"/about\">About Us</a>,\n",
       " <a href=\"https://www.cornell.edu\">\n",
       " <img alt=\"Cornell University\" src=\"/themes/custom/cornell/assets/img/cornell_seal_simple_web_b31b1b.svg\"/>\n",
       " </a>,\n",
       " <a href=\"/\">\n",
       " <img alt=\"Cornell Engineering\" src=\"/themes/custom/cornell/assets/img/CornellEngineering_Logo_TwoLine_FullColor.svg\"/>\n",
       " </a>,\n",
       " <a href=\"/\">Home</a>]"
      ]
     },
     "execution_count": 10,
     "metadata": {},
     "output_type": "execute_result"
    }
   ],
   "source": [
    "links = page.find_all(\"a\")\n",
    "print(\"there are\", len(links), \"links on the page\")\n",
    "links[:10]"
   ]
  },
  {
   "cell_type": "markdown",
   "id": "5d053a92-6c3f-4238-a036-635edb4e3708",
   "metadata": {},
   "source": [
    "But we can be more specific that just finding all instances of a type of tag. \n",
    "\n",
    "Inspecting the HTML we find that all the persons are wrapped around ``<article>`` tags with a class called ``person--listing``. Thus, we can obtain all instances of article with this specific class:"
   ]
  },
  {
   "cell_type": "code",
   "execution_count": 11,
   "id": "3a1ce992-0d03-4e33-816a-f4913086c18e",
   "metadata": {},
   "outputs": [
    {
     "name": "stdout",
     "output_type": "stream",
     "text": [
      "there are 24 articles on the page\n"
     ]
    }
   ],
   "source": [
    "articles = page.find_all(\"article\", {\"class\":\"person--listing\"})\n",
    "print(\"there are\", len(articles), \"articles on the page\")"
   ]
  },
  {
   "cell_type": "markdown",
   "id": "2c840448-9dd3-4899-b44e-613a41ed495e",
   "metadata": {},
   "source": [
    "Observe the first person:"
   ]
  },
  {
   "cell_type": "code",
   "execution_count": 12,
   "id": "7568034d-a576-4640-b0f4-30a31cf878e5",
   "metadata": {},
   "outputs": [
    {
     "data": {
      "text/plain": [
       "<article aria-label=\"About Nicholas L. Abbott\" class=\"person--listing faculty--listing\"><div class=\"row\"><div class=\"faculty-pic columns small-12 medium-12 large-12\"><a class=\"person__portrait\" href=\"https://www.cheme.cornell.edu/faculty-directory/nicholas-l-abbott\"><img alt=\"Nick Abbott\" height=\"560\" loading=\"lazy\" src=\"/sites/default/files/styles/directory_square/public/content/faculty/image/Abbott_REIS_D_560.jpg?itok=IqeF8iI9\" width=\"560\"/></a></div><div class=\"faculty-info columns small-12 medium-12 large-12\"><h2 class=\"h3 person__name\"><a href=\"https://www.cheme.cornell.edu/faculty-directory/nicholas-l-abbott\"><span>Nicholas L. Abbott</span></a></h2><div class=\"person__positions\"><div class=\"person__position\">\n",
       "            Tisch University Professor\n",
       "          </div></div><div class=\"person__office\"><div class=\"person__department\">\n",
       "                                          Smith School of Chemical and Biomolecular Engineering\n",
       "      \n",
       "                          </div><div class=\"person__location\">            360 Olin Hall\n",
       "      </div><div class=\"person__phone\"><a href=\"tel:607%2F255-3601\">607/255-3601</a></div></div><div class=\"person__email\"><a href=\"mailto:nla34@cornell.edu\">nla34@cornell.edu</a></div></div></div></article>"
      ]
     },
     "execution_count": 12,
     "metadata": {},
     "output_type": "execute_result"
    }
   ],
   "source": [
    "articles[0]"
   ]
  },
  {
   "cell_type": "markdown",
   "id": "5a009b40-db0f-4685-9c3e-7c5f5a2e6f59",
   "metadata": {},
   "source": [
    "Now we can inspect this piece of HTML and try to figure out how to get to the information we want.\n",
    "\n",
    "For example, if we want to get the name of the person, we can see that it is wrapped around a `<h2>` tag with a class `person__name`. We can thus access it:"
   ]
  },
  {
   "cell_type": "code",
   "execution_count": 13,
   "id": "45b78226-196b-46c2-94ca-ac0ea3d2b91c",
   "metadata": {},
   "outputs": [
    {
     "data": {
      "text/plain": [
       "<h2 class=\"h3 person__name\"><a href=\"https://www.cheme.cornell.edu/faculty-directory/nicholas-l-abbott\"><span>Nicholas L. Abbott</span></a></h2>"
      ]
     },
     "execution_count": 13,
     "metadata": {},
     "output_type": "execute_result"
    }
   ],
   "source": [
    "articles[0].h2"
   ]
  },
  {
   "cell_type": "markdown",
   "id": "eebf412f-b480-445f-aed6-c881edf1111e",
   "metadata": {},
   "source": [
    "This gives us the entire tag. But we want the text:"
   ]
  },
  {
   "cell_type": "code",
   "execution_count": 14,
   "id": "422cc320-390d-4f5f-aac9-559d8e874aba",
   "metadata": {},
   "outputs": [
    {
     "data": {
      "text/plain": [
       "'Nicholas L. Abbott'"
      ]
     },
     "execution_count": 14,
     "metadata": {},
     "output_type": "execute_result"
    }
   ],
   "source": [
    "articles[0].h2.text"
   ]
  },
  {
   "cell_type": "markdown",
   "id": "8a4db044-79d0-4bde-8c36-630c2a747dbb",
   "metadata": {},
   "source": [
    "At the same time, we get a link to the page of the person in an ``<a>`` tag within this ``<h2>``. This could also be useful. Notice that the link is an attribute value for the attribute `'href'`. We can access attribute values with square brackets ``tag['attribute name']``"
   ]
  },
  {
   "cell_type": "code",
   "execution_count": 15,
   "id": "233a5978-ea1d-488e-a6bc-336de635ecbf",
   "metadata": {},
   "outputs": [
    {
     "data": {
      "text/plain": [
       "'https://www.cheme.cornell.edu/faculty-directory/nicholas-l-abbott'"
      ]
     },
     "execution_count": 15,
     "metadata": {},
     "output_type": "execute_result"
    }
   ],
   "source": [
    "articles[0].h2.a['href']"
   ]
  },
  {
   "cell_type": "markdown",
   "id": "b2cfc964-d6ed-4721-b4df-f133a389aad5",
   "metadata": {},
   "source": [
    "We also want the position of the person. Again, by inspecting the HTML, we could see that this information is contained within a ``<div>`` tag with class `person__position`."
   ]
  },
  {
   "cell_type": "code",
   "execution_count": 16,
   "id": "45f869b7-0522-4546-87f2-cb8d9a6b3233",
   "metadata": {},
   "outputs": [
    {
     "data": {
      "text/plain": [
       "'\\n            Tisch University Professor\\n          '"
      ]
     },
     "execution_count": 16,
     "metadata": {},
     "output_type": "execute_result"
    }
   ],
   "source": [
    "articles[0].find(\"div\", {\"class\":\"person__position\"}).text"
   ]
  },
  {
   "cell_type": "markdown",
   "id": "cc1e9d5d-24ef-42f0-874b-125cbf18a8f0",
   "metadata": {},
   "source": [
    "Due to the nature of web pages, we ofteen get theese strange white spaces. No worries - as we could just use normal python string methods like [strip()](https://www.w3schools.com/python/ref_string_strip.asp) to get rid of these white spaces."
   ]
  },
  {
   "cell_type": "code",
   "execution_count": 17,
   "id": "6a243d76-fb57-4a8a-9e86-75dc1415725e",
   "metadata": {},
   "outputs": [
    {
     "data": {
      "text/plain": [
       "'Tisch University Professor'"
      ]
     },
     "execution_count": 17,
     "metadata": {},
     "output_type": "execute_result"
    }
   ],
   "source": [
    "articles[0].find(\"div\", {\"class\":\"person__position\"}).text.strip()"
   ]
  },
  {
   "cell_type": "markdown",
   "id": "7a088598-2c81-4124-ba14-72b0b26d0ce4",
   "metadata": {},
   "source": [
    "We could follow the same process to get the department, office location, phone and email:"
   ]
  },
  {
   "cell_type": "code",
   "execution_count": 18,
   "id": "e1335060-ca27-4557-ac01-a3281b752b3b",
   "metadata": {},
   "outputs": [
    {
     "name": "stdout",
     "output_type": "stream",
     "text": [
      "Department: Smith School of Chemical and Biomolecular Engineering\n",
      "Office Location: 360 Olin Hall\n",
      "Phone: 607/255-3601\n",
      "Email: nla34@cornell.edu\n"
     ]
    }
   ],
   "source": [
    "print(\"Department:\", articles[0].find(\"div\", {\"class\":\"person__department\"}).text.strip())\n",
    "print(\"Office Location:\", articles[0].find(\"div\", {\"class\":\"person__location\"}).text.strip())\n",
    "print(\"Phone:\", articles[0].find(\"div\", {\"class\":\"person__phone\"}).text.strip())\n",
    "print(\"Email:\", articles[0].find(\"div\", {\"class\":\"person__email\"}).text.strip())"
   ]
  },
  {
   "cell_type": "markdown",
   "id": "596dd025-e635-4d36-8da3-1314279e0e2c",
   "metadata": {},
   "source": [
    "## Automate the Process"
   ]
  },
  {
   "cell_type": "markdown",
   "id": "5ed947ee-b101-4cf2-8c6e-5cbe61659a66",
   "metadata": {},
   "source": [
    "Now that we know how to access the name, link, office and other information about one person, we can automate this process to get the same data for every person listed on the faculty directory.\n",
    "\n",
    "This can be done by first creating empty lists for each of the data field we want to gather, and then populate theese lists by appending in a for loop over each person."
   ]
  },
  {
   "cell_type": "raw",
   "id": "a898451e-ecb3-4751-b9dc-3da485f6b173",
   "metadata": {},
   "source": [
    "name_l = []\n",
    "link_l = []\n",
    "position_l = []\n",
    "department_l = []\n",
    "office_l = []\n",
    "phone_l = []\n",
    "email_l = []\n",
    "\n",
    "for person in articles:\n",
    "    name_l.append(person.h2.text)\n",
    "    link_l.append(person.h2.a['href'])\n",
    "    position_l.append(person.find(\"div\", {\"class\":\"person__position\"}).text.strip())\n",
    "    department_l.append(person.find(\"div\", {\"class\":\"person__department\"}).text.strip())\n",
    "    office_l.append(person.find(\"div\", {\"class\":\"person__location\"}).text.strip())\n",
    "    email_l.append(person.find(\"div\", {\"class\":\"person__email\"}).text.strip())\n",
    "    phone_l.append(person.find(\"div\", {\"class\":\"person__phone\"}).text.strip())\n",
    "\n",
    "name_l"
   ]
  },
  {
   "cell_type": "markdown",
   "id": "4b2f8b64-b3dc-429f-8050-e3df55cc1347",
   "metadata": {},
   "source": [
    "However, if you run this, you will get a ``AttributeError: 'NoneType' object has no attribute 'text'``.\n",
    "\n",
    "Why? because some of the person do not have a phone number listed, so Python is unhappy about that. The solution is just to append NaN values when this error occurs using [try-except](https://www.w3schools.com/python/python_try_except.asp):"
   ]
  },
  {
   "cell_type": "code",
   "execution_count": 19,
   "id": "945a0f30-2de2-4d4e-af2d-60c8d6d802ef",
   "metadata": {},
   "outputs": [
    {
     "data": {
      "text/plain": [
       "['Nicholas L. Abbott',\n",
       " 'Mohamed Abdelfattah',\n",
       " 'Geoffrey Abers',\n",
       " 'Jayadev Acharya',\n",
       " 'Hunter Adams',\n",
       " 'Steven Graham Adie',\n",
       " 'Khurram Khan Afridi',\n",
       " 'Rachit  Agarwal',\n",
       " 'Christopher A. Alabi',\n",
       " 'John D. Albertson',\n",
       " 'David H. Albonesi',\n",
       " 'Warren Douglas Allmon',\n",
       " 'Lorenzo  Alvisi',\n",
       " 'Nelly Andarawis-Puri',\n",
       " 'C. Lindsay Anderson',\n",
       " 'James Francis Antaki',\n",
       " 'Alyssa B. Apsel',\n",
       " 'Lynden A. Archer',\n",
       " 'Shivaun D. Archer',\n",
       " 'Chloé Arson',\n",
       " 'Yoav Artzi',\n",
       " 'Toby R. Ault',\n",
       " 'C Thomas Avedisian',\n",
       " 'Victoria Averbukh']"
      ]
     },
     "execution_count": 19,
     "metadata": {},
     "output_type": "execute_result"
    }
   ],
   "source": [
    "name_l = []\n",
    "link_l = []\n",
    "position_l = []\n",
    "department_l = []\n",
    "office_l = []\n",
    "phone_l = []\n",
    "email_l = []\n",
    "\n",
    "for person in articles:\n",
    "    name_l.append(person.h2.text)\n",
    "    link_l.append(person.h2.a['href'])\n",
    "    position_l.append(person.find(\"div\", {\"class\":\"person__position\"}).text.strip())\n",
    "    department_l.append(person.find(\"div\", {\"class\":\"person__department\"}).text.strip())\n",
    "    office_l.append(person.find(\"div\", {\"class\":\"person__location\"}).text.strip())\n",
    "    email_l.append(person.find(\"div\", {\"class\":\"person__email\"}).text.strip())\n",
    "\n",
    "    try:\n",
    "        phone_l.append(person.find(\"div\", {\"class\":\"person__phone\"}).text.strip())\n",
    "    except:\n",
    "        phone_l.append(np.nan)\n",
    "        \n",
    "name_l"
   ]
  },
  {
   "cell_type": "markdown",
   "id": "5322a3db-b556-4221-b038-9b3a2c2a33f4",
   "metadata": {},
   "source": [
    "Now that we got all of our data in individual lists, we can put them into a dataframe."
   ]
  },
  {
   "cell_type": "code",
   "execution_count": 21,
   "id": "a16cbca4-5d1e-4840-b601-cefcfe8be247",
   "metadata": {},
   "outputs": [
    {
     "data": {
      "text/html": [
       "<div>\n",
       "<style scoped>\n",
       "    .dataframe tbody tr th:only-of-type {\n",
       "        vertical-align: middle;\n",
       "    }\n",
       "\n",
       "    .dataframe tbody tr th {\n",
       "        vertical-align: top;\n",
       "    }\n",
       "\n",
       "    .dataframe thead th {\n",
       "        text-align: right;\n",
       "    }\n",
       "</style>\n",
       "<table border=\"1\" class=\"dataframe\">\n",
       "  <thead>\n",
       "    <tr style=\"text-align: right;\">\n",
       "      <th></th>\n",
       "      <th>Name</th>\n",
       "      <th>Link</th>\n",
       "      <th>Position</th>\n",
       "      <th>Department</th>\n",
       "      <th>Office</th>\n",
       "      <th>Email</th>\n",
       "      <th>Phone</th>\n",
       "    </tr>\n",
       "  </thead>\n",
       "  <tbody>\n",
       "    <tr>\n",
       "      <th>0</th>\n",
       "      <td>Nicholas L. Abbott</td>\n",
       "      <td>https://www.cheme.cornell.edu/faculty-director...</td>\n",
       "      <td>Tisch University Professor</td>\n",
       "      <td>Smith School of Chemical and Biomolecular Engi...</td>\n",
       "      <td>360 Olin Hall</td>\n",
       "      <td>nla34@cornell.edu</td>\n",
       "      <td>607/255-3601</td>\n",
       "    </tr>\n",
       "    <tr>\n",
       "      <th>1</th>\n",
       "      <td>Mohamed Abdelfattah</td>\n",
       "      <td>https://www.engineering.cornell.edu/faculty-di...</td>\n",
       "      <td>Assistant Professor</td>\n",
       "      <td>Electrical and Computer Engineering</td>\n",
       "      <td>Cornell Tech</td>\n",
       "      <td>mohamed@cornell.edu</td>\n",
       "      <td>NaN</td>\n",
       "    </tr>\n",
       "    <tr>\n",
       "      <th>2</th>\n",
       "      <td>Geoffrey Abers</td>\n",
       "      <td>https://www.engineering.cornell.edu/faculty-di...</td>\n",
       "      <td>Chair of Earth and Atmospheric Sciences</td>\n",
       "      <td>Earth and Atmospheric Sciences</td>\n",
       "      <td>2160B Snee Hall/4126 Snee Hall</td>\n",
       "      <td>abers@cornell.edu</td>\n",
       "      <td>607/255-3879</td>\n",
       "    </tr>\n",
       "    <tr>\n",
       "      <th>3</th>\n",
       "      <td>Jayadev Acharya</td>\n",
       "      <td>https://www.engineering.cornell.edu/faculty-di...</td>\n",
       "      <td>Associate Professor</td>\n",
       "      <td>Electrical and Computer Engineering</td>\n",
       "      <td>Frank H T Rhodes Hall, Room 382</td>\n",
       "      <td>acharya@cornell.edu</td>\n",
       "      <td>NaN</td>\n",
       "    </tr>\n",
       "    <tr>\n",
       "      <th>4</th>\n",
       "      <td>Hunter Adams</td>\n",
       "      <td>https://www.engineering.cornell.edu/faculty-di...</td>\n",
       "      <td>Lecturer</td>\n",
       "      <td>Electrical and Computer Engineering</td>\n",
       "      <td>Phillips Hall, Room 208</td>\n",
       "      <td>vha3@cornell.edu</td>\n",
       "      <td>717/304-0047</td>\n",
       "    </tr>\n",
       "    <tr>\n",
       "      <th>5</th>\n",
       "      <td>Steven Graham Adie</td>\n",
       "      <td>https://www.engineering.cornell.edu/faculty-di...</td>\n",
       "      <td>Associate Professor, Associate Director and Di...</td>\n",
       "      <td>Meinig School of Biomedical Engineering</td>\n",
       "      <td>Weill Hall, Room 113</td>\n",
       "      <td>sga42@cornell.edu</td>\n",
       "      <td>607/2552656</td>\n",
       "    </tr>\n",
       "    <tr>\n",
       "      <th>6</th>\n",
       "      <td>Khurram Khan Afridi</td>\n",
       "      <td>https://www.engineering.cornell.edu/faculty-di...</td>\n",
       "      <td>Associate Professor</td>\n",
       "      <td>Electrical and Computer Engineering</td>\n",
       "      <td>Phillips Hall, Room 420</td>\n",
       "      <td>kka34@cornell.edu</td>\n",
       "      <td>NaN</td>\n",
       "    </tr>\n",
       "    <tr>\n",
       "      <th>7</th>\n",
       "      <td>Rachit  Agarwal</td>\n",
       "      <td>https://www.engineering.cornell.edu/faculty-di...</td>\n",
       "      <td>Assistant Professor</td>\n",
       "      <td>Computer Science</td>\n",
       "      <td>Gates Hall 411C</td>\n",
       "      <td>ra625@cornell.edu</td>\n",
       "      <td>607-255-4280</td>\n",
       "    </tr>\n",
       "    <tr>\n",
       "      <th>8</th>\n",
       "      <td>Christopher A. Alabi</td>\n",
       "      <td>https://www.cheme.cornell.edu/faculty-director...</td>\n",
       "      <td>Associate Professor</td>\n",
       "      <td>Smith School of Chemical and Biomolecular Engi...</td>\n",
       "      <td>356A Olin Hall</td>\n",
       "      <td>caa238@cornell.edu</td>\n",
       "      <td>607/255-7889</td>\n",
       "    </tr>\n",
       "    <tr>\n",
       "      <th>9</th>\n",
       "      <td>John D. Albertson</td>\n",
       "      <td>https://www.engineering.cornell.edu/faculty-di...</td>\n",
       "      <td>Professor</td>\n",
       "      <td>Civil and Environmental Engineering</td>\n",
       "      <td>Hollister Hall, Room 113</td>\n",
       "      <td>albertson@cornell.edu</td>\n",
       "      <td>607/255-9671</td>\n",
       "    </tr>\n",
       "    <tr>\n",
       "      <th>10</th>\n",
       "      <td>David H. Albonesi</td>\n",
       "      <td>https://www.engineering.cornell.edu/faculty-di...</td>\n",
       "      <td>Professor</td>\n",
       "      <td>Electrical and Computer Engineering</td>\n",
       "      <td>Frank H T Rhodes Hall, Room 333</td>\n",
       "      <td>dha7@cornell.edu</td>\n",
       "      <td>607/254-5473</td>\n",
       "    </tr>\n",
       "    <tr>\n",
       "      <th>11</th>\n",
       "      <td>Warren Douglas Allmon</td>\n",
       "      <td>https://www.engineering.cornell.edu/faculty-di...</td>\n",
       "      <td>Hunter R Rawlings III Professor of Paleontology</td>\n",
       "      <td>Earth and Atmospheric Sciences</td>\n",
       "      <td>Paleontological Research Institution, 1259 Tru...</td>\n",
       "      <td>wda1@cornell.edu</td>\n",
       "      <td>607/273-6623 x14</td>\n",
       "    </tr>\n",
       "    <tr>\n",
       "      <th>12</th>\n",
       "      <td>Lorenzo  Alvisi</td>\n",
       "      <td>https://www.engineering.cornell.edu/faculty-di...</td>\n",
       "      <td>Computer Science, CS Field Member, Tisch Univ ...</td>\n",
       "      <td>Computer Science</td>\n",
       "      <td>413A Gates Hall</td>\n",
       "      <td>la13@cornell.edu</td>\n",
       "      <td>(607) 255-4289</td>\n",
       "    </tr>\n",
       "    <tr>\n",
       "      <th>13</th>\n",
       "      <td>Nelly Andarawis-Puri</td>\n",
       "      <td>https://www.engineering.cornell.edu/faculty-di...</td>\n",
       "      <td>Associate Director of Graduate Programs and DG...</td>\n",
       "      <td>Sibley School of Mechanical and Aerospace Engi...</td>\n",
       "      <td>353 Upson Hall</td>\n",
       "      <td>na424@cornell.edu</td>\n",
       "      <td>(607) 255-1650</td>\n",
       "    </tr>\n",
       "    <tr>\n",
       "      <th>14</th>\n",
       "      <td>C. Lindsay Anderson</td>\n",
       "      <td>https://www.engineering.cornell.edu/faculty-di...</td>\n",
       "      <td>Professor, Department Chair</td>\n",
       "      <td>Biological and Environmental Engineering</td>\n",
       "      <td>316 Riley Robb Hall</td>\n",
       "      <td>cla28@cornell.edu</td>\n",
       "      <td>607/255-4533</td>\n",
       "    </tr>\n",
       "    <tr>\n",
       "      <th>15</th>\n",
       "      <td>James Francis Antaki</td>\n",
       "      <td>https://www.engineering.cornell.edu/faculty-di...</td>\n",
       "      <td>Susan K. McAdam Professor of Heart Assist Tech...</td>\n",
       "      <td>Meinig School of Biomedical Engineering</td>\n",
       "      <td>Weill Hall, Room 109</td>\n",
       "      <td>antaki@cornell.edu</td>\n",
       "      <td>607-255-0726</td>\n",
       "    </tr>\n",
       "    <tr>\n",
       "      <th>16</th>\n",
       "      <td>Alyssa B. Apsel</td>\n",
       "      <td>https://www.engineering.cornell.edu/faculty-di...</td>\n",
       "      <td>IBM Professor of Engineering and Director</td>\n",
       "      <td>Electrical and Computer Engineering</td>\n",
       "      <td>Phillips Hall, Room 229</td>\n",
       "      <td>aba25@cornell.edu</td>\n",
       "      <td>607/255-3962</td>\n",
       "    </tr>\n",
       "    <tr>\n",
       "      <th>17</th>\n",
       "      <td>Lynden A. Archer</td>\n",
       "      <td>https://www.cheme.cornell.edu/faculty-director...</td>\n",
       "      <td>Joseph Silbert Dean of Engineering ; James A. ...</td>\n",
       "      <td>Smith School of Chemical and Biomolecular Engi...</td>\n",
       "      <td>348 Olin Hall</td>\n",
       "      <td>engineering_dean@cornell.edu</td>\n",
       "      <td>607/254-8825</td>\n",
       "    </tr>\n",
       "    <tr>\n",
       "      <th>18</th>\n",
       "      <td>Shivaun D. Archer</td>\n",
       "      <td>https://www.engineering.cornell.edu/faculty-di...</td>\n",
       "      <td>John &amp; Janet Swanson Senior Lecturer</td>\n",
       "      <td>Meinig School of Biomedical Engineering</td>\n",
       "      <td>Weill Hall, Room 141</td>\n",
       "      <td>sda4@cornell.edu</td>\n",
       "      <td>607/255-3781</td>\n",
       "    </tr>\n",
       "    <tr>\n",
       "      <th>19</th>\n",
       "      <td>Chloé Arson</td>\n",
       "      <td>https://www.cee.cornell.edu/faculty-directory/...</td>\n",
       "      <td>Professor</td>\n",
       "      <td>Civil and Environmental Engineering</td>\n",
       "      <td>Hollister Hall 373</td>\n",
       "      <td>cfa36@cornell.edu</td>\n",
       "      <td>NaN</td>\n",
       "    </tr>\n",
       "    <tr>\n",
       "      <th>20</th>\n",
       "      <td>Yoav Artzi</td>\n",
       "      <td>https://www.engineering.cornell.edu/faculty-di...</td>\n",
       "      <td>Associate Professor</td>\n",
       "      <td>Computer Science</td>\n",
       "      <td>Bloomberg 371, Cornell Tech, 2 West Loop Rd., ...</td>\n",
       "      <td>yoav@cs.cornell.edu</td>\n",
       "      <td>NaN</td>\n",
       "    </tr>\n",
       "    <tr>\n",
       "      <th>21</th>\n",
       "      <td>Toby R. Ault</td>\n",
       "      <td>https://www.engineering.cornell.edu/faculty-di...</td>\n",
       "      <td>Director of Graduate Studies for Atmospheric S...</td>\n",
       "      <td>Earth and Atmospheric Sciences</td>\n",
       "      <td>2108 Snee Hall</td>\n",
       "      <td>toby.ault@cornell.edu</td>\n",
       "      <td>607/255-1509</td>\n",
       "    </tr>\n",
       "    <tr>\n",
       "      <th>22</th>\n",
       "      <td>C Thomas Avedisian</td>\n",
       "      <td>https://www.engineering.cornell.edu/faculty-di...</td>\n",
       "      <td>Professor</td>\n",
       "      <td>Sibley School of Mechanical and Aerospace Engi...</td>\n",
       "      <td>Grumman Hall, Room 193</td>\n",
       "      <td>cta2@cornell.edu</td>\n",
       "      <td>607/592-7915</td>\n",
       "    </tr>\n",
       "    <tr>\n",
       "      <th>23</th>\n",
       "      <td>Victoria Averbukh</td>\n",
       "      <td>https://www.engineering.cornell.edu/faculty-di...</td>\n",
       "      <td>Professor of Practice</td>\n",
       "      <td>Operations Research and Information Engineering</td>\n",
       "      <td>2 West Loop Road, Roosevelt Island</td>\n",
       "      <td>vza1@cornell.edu</td>\n",
       "      <td>NaN</td>\n",
       "    </tr>\n",
       "  </tbody>\n",
       "</table>\n",
       "</div>"
      ],
      "text/plain": [
       "                     Name                                               Link  \\\n",
       "0      Nicholas L. Abbott  https://www.cheme.cornell.edu/faculty-director...   \n",
       "1     Mohamed Abdelfattah  https://www.engineering.cornell.edu/faculty-di...   \n",
       "2          Geoffrey Abers  https://www.engineering.cornell.edu/faculty-di...   \n",
       "3         Jayadev Acharya  https://www.engineering.cornell.edu/faculty-di...   \n",
       "4            Hunter Adams  https://www.engineering.cornell.edu/faculty-di...   \n",
       "5      Steven Graham Adie  https://www.engineering.cornell.edu/faculty-di...   \n",
       "6     Khurram Khan Afridi  https://www.engineering.cornell.edu/faculty-di...   \n",
       "7         Rachit  Agarwal  https://www.engineering.cornell.edu/faculty-di...   \n",
       "8    Christopher A. Alabi  https://www.cheme.cornell.edu/faculty-director...   \n",
       "9       John D. Albertson  https://www.engineering.cornell.edu/faculty-di...   \n",
       "10      David H. Albonesi  https://www.engineering.cornell.edu/faculty-di...   \n",
       "11  Warren Douglas Allmon  https://www.engineering.cornell.edu/faculty-di...   \n",
       "12        Lorenzo  Alvisi  https://www.engineering.cornell.edu/faculty-di...   \n",
       "13   Nelly Andarawis-Puri  https://www.engineering.cornell.edu/faculty-di...   \n",
       "14    C. Lindsay Anderson  https://www.engineering.cornell.edu/faculty-di...   \n",
       "15   James Francis Antaki  https://www.engineering.cornell.edu/faculty-di...   \n",
       "16        Alyssa B. Apsel  https://www.engineering.cornell.edu/faculty-di...   \n",
       "17       Lynden A. Archer  https://www.cheme.cornell.edu/faculty-director...   \n",
       "18      Shivaun D. Archer  https://www.engineering.cornell.edu/faculty-di...   \n",
       "19            Chloé Arson  https://www.cee.cornell.edu/faculty-directory/...   \n",
       "20             Yoav Artzi  https://www.engineering.cornell.edu/faculty-di...   \n",
       "21           Toby R. Ault  https://www.engineering.cornell.edu/faculty-di...   \n",
       "22     C Thomas Avedisian  https://www.engineering.cornell.edu/faculty-di...   \n",
       "23      Victoria Averbukh  https://www.engineering.cornell.edu/faculty-di...   \n",
       "\n",
       "                                             Position  \\\n",
       "0                          Tisch University Professor   \n",
       "1                                 Assistant Professor   \n",
       "2             Chair of Earth and Atmospheric Sciences   \n",
       "3                                 Associate Professor   \n",
       "4                                            Lecturer   \n",
       "5   Associate Professor, Associate Director and Di...   \n",
       "6                                 Associate Professor   \n",
       "7                                 Assistant Professor   \n",
       "8                                 Associate Professor   \n",
       "9                                           Professor   \n",
       "10                                          Professor   \n",
       "11    Hunter R Rawlings III Professor of Paleontology   \n",
       "12  Computer Science, CS Field Member, Tisch Univ ...   \n",
       "13  Associate Director of Graduate Programs and DG...   \n",
       "14                        Professor, Department Chair   \n",
       "15  Susan K. McAdam Professor of Heart Assist Tech...   \n",
       "16          IBM Professor of Engineering and Director   \n",
       "17  Joseph Silbert Dean of Engineering ; James A. ...   \n",
       "18               John & Janet Swanson Senior Lecturer   \n",
       "19                                          Professor   \n",
       "20                                Associate Professor   \n",
       "21  Director of Graduate Studies for Atmospheric S...   \n",
       "22                                          Professor   \n",
       "23                              Professor of Practice   \n",
       "\n",
       "                                           Department  \\\n",
       "0   Smith School of Chemical and Biomolecular Engi...   \n",
       "1                 Electrical and Computer Engineering   \n",
       "2                      Earth and Atmospheric Sciences   \n",
       "3                 Electrical and Computer Engineering   \n",
       "4                 Electrical and Computer Engineering   \n",
       "5             Meinig School of Biomedical Engineering   \n",
       "6                 Electrical and Computer Engineering   \n",
       "7                                    Computer Science   \n",
       "8   Smith School of Chemical and Biomolecular Engi...   \n",
       "9                 Civil and Environmental Engineering   \n",
       "10                Electrical and Computer Engineering   \n",
       "11                     Earth and Atmospheric Sciences   \n",
       "12                                   Computer Science   \n",
       "13  Sibley School of Mechanical and Aerospace Engi...   \n",
       "14           Biological and Environmental Engineering   \n",
       "15            Meinig School of Biomedical Engineering   \n",
       "16                Electrical and Computer Engineering   \n",
       "17  Smith School of Chemical and Biomolecular Engi...   \n",
       "18            Meinig School of Biomedical Engineering   \n",
       "19                Civil and Environmental Engineering   \n",
       "20                                   Computer Science   \n",
       "21                     Earth and Atmospheric Sciences   \n",
       "22  Sibley School of Mechanical and Aerospace Engi...   \n",
       "23    Operations Research and Information Engineering   \n",
       "\n",
       "                                               Office  \\\n",
       "0                                       360 Olin Hall   \n",
       "1                                        Cornell Tech   \n",
       "2                      2160B Snee Hall/4126 Snee Hall   \n",
       "3                     Frank H T Rhodes Hall, Room 382   \n",
       "4                             Phillips Hall, Room 208   \n",
       "5                                Weill Hall, Room 113   \n",
       "6                             Phillips Hall, Room 420   \n",
       "7                                     Gates Hall 411C   \n",
       "8                                      356A Olin Hall   \n",
       "9                            Hollister Hall, Room 113   \n",
       "10                    Frank H T Rhodes Hall, Room 333   \n",
       "11  Paleontological Research Institution, 1259 Tru...   \n",
       "12                                    413A Gates Hall   \n",
       "13                                     353 Upson Hall   \n",
       "14                                316 Riley Robb Hall   \n",
       "15                               Weill Hall, Room 109   \n",
       "16                            Phillips Hall, Room 229   \n",
       "17                                      348 Olin Hall   \n",
       "18                               Weill Hall, Room 141   \n",
       "19                                 Hollister Hall 373   \n",
       "20  Bloomberg 371, Cornell Tech, 2 West Loop Rd., ...   \n",
       "21                                     2108 Snee Hall   \n",
       "22                             Grumman Hall, Room 193   \n",
       "23                 2 West Loop Road, Roosevelt Island   \n",
       "\n",
       "                           Email             Phone  \n",
       "0              nla34@cornell.edu      607/255-3601  \n",
       "1            mohamed@cornell.edu               NaN  \n",
       "2              abers@cornell.edu      607/255-3879  \n",
       "3            acharya@cornell.edu               NaN  \n",
       "4               vha3@cornell.edu      717/304-0047  \n",
       "5              sga42@cornell.edu       607/2552656  \n",
       "6              kka34@cornell.edu               NaN  \n",
       "7              ra625@cornell.edu      607-255-4280  \n",
       "8             caa238@cornell.edu      607/255-7889  \n",
       "9          albertson@cornell.edu      607/255-9671  \n",
       "10              dha7@cornell.edu      607/254-5473  \n",
       "11              wda1@cornell.edu  607/273-6623 x14  \n",
       "12              la13@cornell.edu    (607) 255-4289  \n",
       "13             na424@cornell.edu    (607) 255-1650  \n",
       "14             cla28@cornell.edu      607/255-4533  \n",
       "15            antaki@cornell.edu      607-255-0726  \n",
       "16             aba25@cornell.edu      607/255-3962  \n",
       "17  engineering_dean@cornell.edu      607/254-8825  \n",
       "18              sda4@cornell.edu      607/255-3781  \n",
       "19             cfa36@cornell.edu               NaN  \n",
       "20           yoav@cs.cornell.edu               NaN  \n",
       "21         toby.ault@cornell.edu      607/255-1509  \n",
       "22              cta2@cornell.edu      607/592-7915  \n",
       "23              vza1@cornell.edu               NaN  "
      ]
     },
     "execution_count": 21,
     "metadata": {},
     "output_type": "execute_result"
    }
   ],
   "source": [
    "pd.DataFrame({\"Name\":name_l, \"Link\":link_l, \"Position\":position_l, \n",
    "              \"Department\":department_l, \"Office\":office_l, \n",
    "              \"Email\":email_l, \"Phone\":phone_l})"
   ]
  },
  {
   "cell_type": "markdown",
   "id": "e88da6a3-a2fe-46c7-bd89-ad7cd11526c8",
   "metadata": {},
   "source": [
    "Notice that we only got 23 records - we did not get all the Engineering professors from here. Why?\n",
    "\n",
    "Look at the website again - we will notice that it is paginated - we select the initial letter. However, if we look at the URL once we select letters, we can see that there is a pattern in the URL. Specifically, there is a suffix to the URL of \"?letter=X\". For example, all faculty with the initial of \"A\" are in https://www.engineering.cornell.edu/faculty-directory?letter=A.\n",
    "\n",
    "We can thus leverage this to obtain all professors by alternating this suffix."
   ]
  },
  {
   "cell_type": "markdown",
   "id": "24f32307-c1de-458d-b02a-cbca9d8f44f5",
   "metadata": {},
   "source": [
    "### Pagination"
   ]
  },
  {
   "cell_type": "code",
   "execution_count": 22,
   "id": "18b91258-c86b-4e8c-bfec-9ba804b18e21",
   "metadata": {},
   "outputs": [
    {
     "data": {
      "text/html": [
       "<div>\n",
       "<style scoped>\n",
       "    .dataframe tbody tr th:only-of-type {\n",
       "        vertical-align: middle;\n",
       "    }\n",
       "\n",
       "    .dataframe tbody tr th {\n",
       "        vertical-align: top;\n",
       "    }\n",
       "\n",
       "    .dataframe thead th {\n",
       "        text-align: right;\n",
       "    }\n",
       "</style>\n",
       "<table border=\"1\" class=\"dataframe\">\n",
       "  <thead>\n",
       "    <tr style=\"text-align: right;\">\n",
       "      <th></th>\n",
       "      <th>Name</th>\n",
       "      <th>Link</th>\n",
       "      <th>Position</th>\n",
       "      <th>Department</th>\n",
       "      <th>Office</th>\n",
       "      <th>Email</th>\n",
       "      <th>Phone</th>\n",
       "    </tr>\n",
       "  </thead>\n",
       "  <tbody>\n",
       "    <tr>\n",
       "      <th>0</th>\n",
       "      <td>Nicholas L. Abbott</td>\n",
       "      <td>https://www.cheme.cornell.edu/faculty-director...</td>\n",
       "      <td>Tisch University Professor</td>\n",
       "      <td>Smith School of Chemical and Biomolecular Engi...</td>\n",
       "      <td>360 Olin Hall</td>\n",
       "      <td>nla34@cornell.edu</td>\n",
       "      <td>607/255-3601</td>\n",
       "    </tr>\n",
       "    <tr>\n",
       "      <th>1</th>\n",
       "      <td>Mohamed Abdelfattah</td>\n",
       "      <td>https://www.engineering.cornell.edu/faculty-di...</td>\n",
       "      <td>Assistant Professor</td>\n",
       "      <td>Electrical and Computer Engineering</td>\n",
       "      <td>Cornell Tech</td>\n",
       "      <td>mohamed@cornell.edu</td>\n",
       "      <td>NaN</td>\n",
       "    </tr>\n",
       "    <tr>\n",
       "      <th>2</th>\n",
       "      <td>Geoffrey Abers</td>\n",
       "      <td>https://www.engineering.cornell.edu/faculty-di...</td>\n",
       "      <td>Chair of Earth and Atmospheric Sciences</td>\n",
       "      <td>Earth and Atmospheric Sciences</td>\n",
       "      <td>2160B Snee Hall/4126 Snee Hall</td>\n",
       "      <td>abers@cornell.edu</td>\n",
       "      <td>607/255-3879</td>\n",
       "    </tr>\n",
       "    <tr>\n",
       "      <th>3</th>\n",
       "      <td>Jayadev Acharya</td>\n",
       "      <td>https://www.engineering.cornell.edu/faculty-di...</td>\n",
       "      <td>Associate Professor</td>\n",
       "      <td>Electrical and Computer Engineering</td>\n",
       "      <td>Frank H T Rhodes Hall, Room 382</td>\n",
       "      <td>acharya@cornell.edu</td>\n",
       "      <td>NaN</td>\n",
       "    </tr>\n",
       "    <tr>\n",
       "      <th>4</th>\n",
       "      <td>Hunter Adams</td>\n",
       "      <td>https://www.engineering.cornell.edu/faculty-di...</td>\n",
       "      <td>Lecturer</td>\n",
       "      <td>Electrical and Computer Engineering</td>\n",
       "      <td>Phillips Hall, Room 208</td>\n",
       "      <td>vha3@cornell.edu</td>\n",
       "      <td>717/304-0047</td>\n",
       "    </tr>\n",
       "    <tr>\n",
       "      <th>...</th>\n",
       "      <td>...</td>\n",
       "      <td>...</td>\n",
       "      <td>...</td>\n",
       "      <td>...</td>\n",
       "      <td>...</td>\n",
       "      <td>...</td>\n",
       "      <td>...</td>\n",
       "    </tr>\n",
       "    <tr>\n",
       "      <th>351</th>\n",
       "      <td>Lenan Zhang</td>\n",
       "      <td>https://www.engineering.cornell.edu/faculty-di...</td>\n",
       "      <td>Assistant Professor (Starting in July 2024)</td>\n",
       "      <td>Sibley School of Mechanical and Aerospace Engi...</td>\n",
       "      <td>NaN</td>\n",
       "      <td>lzhang@cornell.edu</td>\n",
       "      <td>NaN</td>\n",
       "    </tr>\n",
       "    <tr>\n",
       "      <th>352</th>\n",
       "      <td>Zhiru Zhang</td>\n",
       "      <td>https://www.engineering.cornell.edu/faculty-di...</td>\n",
       "      <td>Associate Professor</td>\n",
       "      <td>Electrical and Computer Engineering</td>\n",
       "      <td>Frank H T Rhodes Hall, Room 320</td>\n",
       "      <td>zhiruz@cornell.edu</td>\n",
       "      <td>607/255-5954</td>\n",
       "    </tr>\n",
       "    <tr>\n",
       "      <th>353</th>\n",
       "      <td>Qing Zhao</td>\n",
       "      <td>https://www.engineering.cornell.edu/faculty-di...</td>\n",
       "      <td>Joseph C. Ford Professor of Engineering</td>\n",
       "      <td>Electrical and Computer Engineering</td>\n",
       "      <td>Frank H T Rhodes Hall, Room 325</td>\n",
       "      <td>qz16@cornell.edu</td>\n",
       "      <td>NaN</td>\n",
       "    </tr>\n",
       "    <tr>\n",
       "      <th>354</th>\n",
       "      <td>Yu Zhong</td>\n",
       "      <td>https://www.mse.cornell.edu/faculty-directory/...</td>\n",
       "      <td>Assistant Professor</td>\n",
       "      <td>Materials Science and Engineering</td>\n",
       "      <td>229 Bard Hall</td>\n",
       "      <td>yz2833@cornell.edu</td>\n",
       "      <td>NaN</td>\n",
       "    </tr>\n",
       "    <tr>\n",
       "      <th>355</th>\n",
       "      <td>Warren R. Zipfel</td>\n",
       "      <td>https://www.engineering.cornell.edu/faculty-di...</td>\n",
       "      <td>Associate Professor</td>\n",
       "      <td>Meinig School of Biomedical Engineering</td>\n",
       "      <td>Weill Hall, Room B41</td>\n",
       "      <td>wrz2@cornell.edu</td>\n",
       "      <td>607/255-0663</td>\n",
       "    </tr>\n",
       "  </tbody>\n",
       "</table>\n",
       "<p>356 rows × 7 columns</p>\n",
       "</div>"
      ],
      "text/plain": [
       "                    Name                                               Link  \\\n",
       "0     Nicholas L. Abbott  https://www.cheme.cornell.edu/faculty-director...   \n",
       "1    Mohamed Abdelfattah  https://www.engineering.cornell.edu/faculty-di...   \n",
       "2         Geoffrey Abers  https://www.engineering.cornell.edu/faculty-di...   \n",
       "3        Jayadev Acharya  https://www.engineering.cornell.edu/faculty-di...   \n",
       "4           Hunter Adams  https://www.engineering.cornell.edu/faculty-di...   \n",
       "..                   ...                                                ...   \n",
       "351          Lenan Zhang  https://www.engineering.cornell.edu/faculty-di...   \n",
       "352          Zhiru Zhang  https://www.engineering.cornell.edu/faculty-di...   \n",
       "353            Qing Zhao  https://www.engineering.cornell.edu/faculty-di...   \n",
       "354             Yu Zhong  https://www.mse.cornell.edu/faculty-directory/...   \n",
       "355     Warren R. Zipfel  https://www.engineering.cornell.edu/faculty-di...   \n",
       "\n",
       "                                        Position  \\\n",
       "0                     Tisch University Professor   \n",
       "1                            Assistant Professor   \n",
       "2        Chair of Earth and Atmospheric Sciences   \n",
       "3                            Associate Professor   \n",
       "4                                       Lecturer   \n",
       "..                                           ...   \n",
       "351  Assistant Professor (Starting in July 2024)   \n",
       "352                          Associate Professor   \n",
       "353      Joseph C. Ford Professor of Engineering   \n",
       "354                          Assistant Professor   \n",
       "355                          Associate Professor   \n",
       "\n",
       "                                            Department  \\\n",
       "0    Smith School of Chemical and Biomolecular Engi...   \n",
       "1                  Electrical and Computer Engineering   \n",
       "2                       Earth and Atmospheric Sciences   \n",
       "3                  Electrical and Computer Engineering   \n",
       "4                  Electrical and Computer Engineering   \n",
       "..                                                 ...   \n",
       "351  Sibley School of Mechanical and Aerospace Engi...   \n",
       "352                Electrical and Computer Engineering   \n",
       "353                Electrical and Computer Engineering   \n",
       "354                  Materials Science and Engineering   \n",
       "355            Meinig School of Biomedical Engineering   \n",
       "\n",
       "                              Office                Email         Phone  \n",
       "0                      360 Olin Hall    nla34@cornell.edu  607/255-3601  \n",
       "1                       Cornell Tech  mohamed@cornell.edu           NaN  \n",
       "2     2160B Snee Hall/4126 Snee Hall    abers@cornell.edu  607/255-3879  \n",
       "3    Frank H T Rhodes Hall, Room 382  acharya@cornell.edu           NaN  \n",
       "4            Phillips Hall, Room 208     vha3@cornell.edu  717/304-0047  \n",
       "..                               ...                  ...           ...  \n",
       "351                              NaN   lzhang@cornell.edu           NaN  \n",
       "352  Frank H T Rhodes Hall, Room 320   zhiruz@cornell.edu  607/255-5954  \n",
       "353  Frank H T Rhodes Hall, Room 325     qz16@cornell.edu           NaN  \n",
       "354                    229 Bard Hall   yz2833@cornell.edu           NaN  \n",
       "355             Weill Hall, Room B41     wrz2@cornell.edu  607/255-0663  \n",
       "\n",
       "[356 rows x 7 columns]"
      ]
     },
     "execution_count": 22,
     "metadata": {},
     "output_type": "execute_result"
    }
   ],
   "source": [
    "name_l = []\n",
    "link_l = []\n",
    "position_l = []\n",
    "department_l = []\n",
    "office_l = []\n",
    "phone_l = []\n",
    "email_l = []\n",
    "\n",
    "for letter in ['A', 'B', 'C', 'D', 'E', 'F', 'G', 'H', 'I', 'J', 'K', 'L', 'M', 'N', 'O', 'P', 'Q', 'R', 'S', 'T', 'U', 'V', 'W', 'X', 'Y', 'Z']:\n",
    "    url=\"https://www.engineering.cornell.edu/faculty-directory?letter=\"+letter\n",
    "    response = requests.get(url, headers={'User-Agent': 'Mozilla/5.0'})\n",
    "    page = BeautifulSoup(response.text, \"html.parser\")\n",
    "    articles = page.find_all(\"article\", {\"class\":\"person--listing\"})\n",
    "    \n",
    "    for person in articles:\n",
    "        name_l.append(person.h2.text)\n",
    "        link_l.append(person.h2.a['href'])\n",
    "        position_l.append(person.find(\"div\", {\"class\":\"person__position\"}).text.strip())\n",
    "        department_l.append(person.find(\"div\", {\"class\":\"person__department\"}).text.strip())\n",
    "\n",
    "        try:\n",
    "            office_l.append(person.find(\"div\", {\"class\":\"person__location\"}).text.strip())\n",
    "        except:\n",
    "            office_l.append(np.nan)\n",
    "\n",
    "        try:\n",
    "            email_l += [person.find(\"div\", {\"class\":\"person__email\"}).text.strip()]\n",
    "        except:\n",
    "            email_l.append(np.nan)\n",
    "        \n",
    "        try:\n",
    "            phone_l.append(person.find(\"div\", {\"class\":\"person__phone\"}).text.strip())\n",
    "        except:\n",
    "            phone_l.append(np.nan)\n",
    "        \n",
    "pd.DataFrame({\"Name\":name_l, \"Link\":link_l, \"Position\":position_l, \n",
    "              \"Department\":department_l, \"Office\":office_l, \n",
    "              \"Email\":email_l, \"Phone\":phone_l})"
   ]
  },
  {
   "cell_type": "markdown",
   "id": "e4450371-bb6d-4168-a1db-46589d731d9a",
   "metadata": {},
   "source": [
    "# Exercise: Gimme! Coffee"
   ]
  },
  {
   "cell_type": "markdown",
   "id": "b8fd0980-4b4e-4b2f-a002-dafca16cf009",
   "metadata": {},
   "source": [
    "Time for some excercise! \n",
    "\n",
    "Please scrape all the coffee that is on sale on Gimme! Coffee's website: [https://gimmecoffee.com/coffee/](https://gimmecoffee.com/coffee/)"
   ]
  },
  {
   "cell_type": "markdown",
   "id": "63bd7d1a-071c-474f-b4b7-b5ccb118ac3a",
   "metadata": {},
   "source": [
    "First, make an request and check if the response code is expected."
   ]
  },
  {
   "cell_type": "code",
   "execution_count": null,
   "id": "181c5ae4-9ed5-4917-906e-2bd2e8151e93",
   "metadata": {},
   "outputs": [],
   "source": [
    "# Your Code: Feel free to add new cells"
   ]
  },
  {
   "cell_type": "markdown",
   "id": "054d3ecc-5e9a-4c71-b061-9c1ef6218b3e",
   "metadata": {},
   "source": [
    "Save the html locally as \"gimme.html\" and read it in again."
   ]
  },
  {
   "cell_type": "code",
   "execution_count": null,
   "id": "1d9d2759-194d-468d-b035-083fce489e94",
   "metadata": {},
   "outputs": [],
   "source": [
    "# Your Code"
   ]
  },
  {
   "cell_type": "markdown",
   "id": "504de827-e0c5-411e-9a6b-636520f1695c",
   "metadata": {},
   "source": [
    "Construct an BeautifulSoup Object from the html you just got"
   ]
  },
  {
   "cell_type": "code",
   "execution_count": null,
   "id": "3aca2da8-d3f5-4b1a-8cac-dfc55c9c94bd",
   "metadata": {},
   "outputs": [],
   "source": [
    "# Your Code"
   ]
  },
  {
   "cell_type": "markdown",
   "id": "483c3da6-2c46-4fa9-bd50-d550248f42df",
   "metadata": {},
   "source": [
    "Try obtain all the elements that represent a coffee item using .find_all()."
   ]
  },
  {
   "cell_type": "code",
   "execution_count": null,
   "id": "655cb997-a07a-49d2-a5c4-f56194fe347c",
   "metadata": {},
   "outputs": [],
   "source": [
    "# Your Code"
   ]
  },
  {
   "cell_type": "markdown",
   "id": "acf80ec1-660e-4195-a839-77814a537dbd",
   "metadata": {},
   "source": [
    "Obtain the price of the first coffee item"
   ]
  },
  {
   "cell_type": "code",
   "execution_count": null,
   "id": "b2257db1-a694-4001-b9ee-540954fe218e",
   "metadata": {},
   "outputs": [],
   "source": [
    "# Your Code"
   ]
  },
  {
   "cell_type": "markdown",
   "id": "df0ff896-d3fb-4ba8-96c3-610787c66089",
   "metadata": {},
   "source": [
    "Obtain the link of the first coffee item. E.g., https://gimmecoffee.com/mt-pleasant-coffee-pods-fairtrade-organic/"
   ]
  },
  {
   "cell_type": "code",
   "execution_count": null,
   "id": "c0289d89-21c3-46f5-b2a9-ee8d2342217a",
   "metadata": {},
   "outputs": [],
   "source": [
    "# Your Code"
   ]
  },
  {
   "cell_type": "markdown",
   "id": "f1e6ebe2-5333-4f2b-8ad9-a9964ffe0c97",
   "metadata": {},
   "source": [
    "Now, automate the process over all the coffee items and put the name, description, link, price in separate lists."
   ]
  },
  {
   "cell_type": "code",
   "execution_count": null,
   "id": "5283e21f-8e84-494b-8893-1511fa4310b4",
   "metadata": {},
   "outputs": [],
   "source": [
    "# Your Code"
   ]
  },
  {
   "cell_type": "markdown",
   "id": "b7cc56ac-7fcc-4ceb-b6d3-51e7c6f98d3a",
   "metadata": {},
   "source": [
    "Construct a dataframe to store the data and show the dataframe."
   ]
  },
  {
   "cell_type": "code",
   "execution_count": null,
   "id": "033642d6-91d4-4b8e-b219-0a5bda3d64d0",
   "metadata": {},
   "outputs": [],
   "source": [
    "# Your Code"
   ]
  }
 ],
 "metadata": {
  "kernelspec": {
   "display_name": "Python 3 (ipykernel)",
   "language": "python",
   "name": "python3"
  },
  "language_info": {
   "codemirror_mode": {
    "name": "ipython",
    "version": 3
   },
   "file_extension": ".py",
   "mimetype": "text/x-python",
   "name": "python",
   "nbconvert_exporter": "python",
   "pygments_lexer": "ipython3",
   "version": "3.9.18"
  }
 },
 "nbformat": 4,
 "nbformat_minor": 5
}
